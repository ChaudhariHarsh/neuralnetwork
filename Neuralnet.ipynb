{
 "cells": [
  {
   "cell_type": "markdown",
   "metadata": {},
   "source": [
    "#  Neural Network Implementations :\n",
    "\n",
    "- In this Section we are developing simple but very effecirent neural network and then at the end of that we will train this model for one example and try to predict and get accuracy.\n",
    "\n",
    "\n",
    "\n",
    "\n"
   ]
  },
  {
   "cell_type": "markdown",
   "metadata": {},
   "source": [
    "## Imoprting necessary framework : "
   ]
  },
  {
   "cell_type": "code",
   "execution_count": 1,
   "metadata": {},
   "outputs": [],
   "source": [
    "import numpy as np\n",
    "import matplotlib.pyplot as plt\n",
    "import math"
   ]
  },
  {
   "cell_type": "markdown",
   "metadata": {},
   "source": [
    "## Getting Network shape from Input and Output :"
   ]
  },
  {
   "cell_type": "code",
   "execution_count": 2,
   "metadata": {},
   "outputs": [],
   "source": [
    "def network_shape(X, Y):\n",
    "    n_x = X.shape[0] \n",
    "    n_h = 4\n",
    "    n_y = Y.shape[0]\n",
    "    return (n_x, n_h, n_y)"
   ]
  },
  {
   "cell_type": "markdown",
   "metadata": {},
   "source": [
    "## Initialize Parameter W and b :"
   ]
  },
  {
   "cell_type": "code",
   "execution_count": 3,
   "metadata": {},
   "outputs": [],
   "source": [
    "def initialize_parameters(n_x, n_h, n_y):\n",
    "    W1 = np.random.randn(n_h,n_x) * 0.01\n",
    "    b1 = np.zeros((n_h,1))\n",
    "    W2 = np.random.randn(n_y,n_h) * 0.01\n",
    "    b2 = np.zeros((n_y,1))\n",
    "    assert (W1.shape == (n_h, n_x)),\"error at W1 size\"\n",
    "    assert (b1.shape == (n_h, 1)),\"error at b1 size\"\n",
    "    assert (W2.shape == (n_y, n_h)),\"error at W2 size\"\n",
    "    assert (b2.shape == (n_y, 1)),\"error at b2 size\"\n",
    "    parameters = {\"W1\": W1,\n",
    "                  \"b1\": b1,\n",
    "                  \"W2\": W2,\n",
    "                  \"b2\": b2}\n",
    "    return parameters"
   ]
  },
  {
   "cell_type": "markdown",
   "metadata": {},
   "source": [
    "## Sigmoid function :"
   ]
  },
  {
   "cell_type": "code",
   "execution_count": 4,
   "metadata": {},
   "outputs": [],
   "source": [
    "def sigmoid(Z):\n",
    "    A = 1/( 1 + np.exp(-Z))\n",
    "    return A"
   ]
  },
  {
   "cell_type": "markdown",
   "metadata": {},
   "source": [
    "## Feature normailze with limit [0, 1]"
   ]
  },
  {
   "cell_type": "code",
   "execution_count": 5,
   "metadata": {},
   "outputs": [],
   "source": [
    "def feature_normalization(X):\n",
    "    (row, col) = X.shape\n",
    "    for f in range(row):\n",
    "        \n",
    "        X[f,:] = (X[f,:]- min(X[f,:].T))/(max(X[f,:].T)- min(X[f,:].T))\n",
    "    \n",
    "    assert(X.shape==(row,col)),\"Error in size match : feature_normalization\"\n",
    "    return X"
   ]
  },
  {
   "cell_type": "markdown",
   "metadata": {},
   "source": [
    "## Forward propogation : "
   ]
  },
  {
   "cell_type": "code",
   "execution_count": 6,
   "metadata": {},
   "outputs": [],
   "source": [
    "def forward_prop(X, parameters):\n",
    "    # Retrieve each parameter W and b\n",
    "    W1 = parameters[\"W1\"]\n",
    "    b1 = parameters[\"b1\"]\n",
    "    W2 = parameters[\"W2\"]\n",
    "    b2 = parameters[\"b2\"]    \n",
    "    #  calculate A2\n",
    "    Z1 = np.dot(W1, X) + b1\n",
    "    A1 = sigmoid(Z1)\n",
    "    Z2 = np.dot(W2, A1) + b2\n",
    "    A2 = sigmoid(Z2)\n",
    "    assert(A2.shape == (1, X.shape[1]))\n",
    "    cache = {\"Z1\": Z1,\n",
    "             \"A1\": A1,\n",
    "             \"Z2\": Z2,\n",
    "             \"A2\": A2}\n",
    "    return A2, cache"
   ]
  },
  {
   "cell_type": "markdown",
   "metadata": {},
   "source": [
    "## Compute Cost for sigmoid function :"
   ]
  },
  {
   "cell_type": "code",
   "execution_count": 7,
   "metadata": {},
   "outputs": [],
   "source": [
    "def compute_cost(A2, Y, parameters):\n",
    "    m = Y.shape[1]\n",
    "    logprobs = np.multiply(np.log(A2),Y) + np.multiply(np.log(1-A2),(1-Y))\n",
    "    cost = - np.sum(logprobs) / m\n",
    "    cost = np.squeeze(cost)\n",
    "    assert(isinstance(cost, float))\n",
    "    \n",
    "    return cost"
   ]
  },
  {
   "cell_type": "markdown",
   "metadata": {},
   "source": [
    "## Back propogation :"
   ]
  },
  {
   "cell_type": "code",
   "execution_count": 8,
   "metadata": {},
   "outputs": [],
   "source": [
    "def backward_propagation(parameters, cache, X, Y):\n",
    "    m = X.shape[1]\n",
    "    # First, retrieve W1 and W2\n",
    "    W1 = parameters[\"W1\"]\n",
    "    W2 = parameters[\"W2\"]\n",
    "    # Retrieve also A1 and A2\n",
    "    A1 = cache[\"A1\"]\n",
    "    A2 = cache[\"A2\"]\n",
    "    # Backward prop: calculate dW1, db1, dW2, db2. \n",
    "    dZ2 = A2 - Y\n",
    "    assert(A2.shape==Y.shape),\"Error at backprop, A2 is not same size as Y\"\n",
    "    dW2 = np.dot(dZ2, A1.T)/m\n",
    "    db2 = np.sum(dZ2, axis=1)/m\n",
    "    dZ1 = np.multiply(np.dot(W2.T, dZ2),np.multiply(A1,(1-A1)))\n",
    "    dW1 = np.dot(dZ1,X.T)/m\n",
    "    db1 = np.sum(dZ1, axis=1)/m\n",
    "    grads = {\"dW1\": dW1,\n",
    "             \"db1\": db1,\n",
    "             \"dW2\": dW2,\n",
    "             \"db2\": db2}\n",
    "    return grads"
   ]
  },
  {
   "cell_type": "markdown",
   "metadata": {},
   "source": [
    "## Gradient descent update rule :"
   ]
  },
  {
   "cell_type": "code",
   "execution_count": 14,
   "metadata": {},
   "outputs": [],
   "source": [
    "def update_parameters(parameters, grads, learning_rate = 0.8):\n",
    "    # Retrieve each parameter\n",
    "    W1 = parameters[\"W1\"] \n",
    "    b1 = parameters[\"b1\"] \n",
    "    W2 = parameters[\"W2\"]\n",
    "    b2 = parameters[\"b2\"]\n",
    "    # Retrieve each gradient\n",
    "    dW1 = grads[\"dW1\"]\n",
    "    db1 = grads[\"db1\"]\n",
    "    dW2 = grads[\"dW2\"]\n",
    "    db2 = grads[\"db2\"]\n",
    "    \n",
    "    W1 = W1 - learning_rate * dW1\n",
    "    b1 = b1 - learning_rate * db1\n",
    "    W2 = W2 - learning_rate * dW2\n",
    "    b2 = b2 - learning_rate * db2\n",
    "    parameters = {\"W1\": W1,\n",
    "                  \"b1\": b1,\n",
    "                  \"W2\": W2,\n",
    "                  \"b2\": b2}\n",
    "    return parameters"
   ]
  },
  {
   "cell_type": "markdown",
   "metadata": {},
   "source": [
    "## Predict function :"
   ]
  },
  {
   "cell_type": "code",
   "execution_count": 15,
   "metadata": {},
   "outputs": [],
   "source": [
    "def predict(parameters, X):\n",
    "    A2, cache = forward_prop(X, parameters)\n",
    "    predictions = 1*(A2 > 0.5)\n",
    "    return predictions"
   ]
  },
  {
   "cell_type": "markdown",
   "metadata": {},
   "source": [
    "## Neural network model :"
   ]
  },
  {
   "cell_type": "code",
   "execution_count": 16,
   "metadata": {},
   "outputs": [],
   "source": [
    "def nn_model(X, Y, n_h, num_iterations = 1000, show_cost=False):\n",
    "    n_x,n_h,n_y = network_shape(X, Y)\n",
    "    # Initialize parameters\n",
    "    parameters = initialize_parameters(n_x, n_h, n_y)\n",
    "    # retrieve W1, b1, W2, b2.\n",
    "    W1 = parameters[\"W1\"]\n",
    "    b1 = parameters[\"b1\"]\n",
    "    W2 = parameters[\"W2\"]\n",
    "    b2 = parameters[\"b2\"]\n",
    "    # Loop is for gradient descent Iteration\n",
    "    for i in range(0, num_iterations):\n",
    "        \n",
    "        # Forward prop\n",
    "        A2, cache = forward_prop(X, parameters)\n",
    "        # Cost-function\n",
    "        cost = compute_cost(A2, Y, parameters)\n",
    "        # Backprop\n",
    "        grads = backward_propagation(parameters, cache, X, Y)\n",
    "        # Gradient descent parameter update\n",
    "        parameters = update_parameters(parameters, grads)\n",
    "        \n",
    "        if show_cost and i % 100 == 0:\n",
    "            print (\"Cost after iteration %i: %f\" %(i, cost))\n",
    "\n",
    "    return parameters"
   ]
  },
  {
   "cell_type": "markdown",
   "metadata": {},
   "source": [
    "## Load example data to train :"
   ]
  },
  {
   "cell_type": "code",
   "execution_count": 17,
   "metadata": {},
   "outputs": [
    {
     "name": "stdout",
     "output_type": "stream",
     "text": [
      "Cost after iteration 0: 0.694957\n",
      "Cost after iteration 100: 0.660026\n",
      "Cost after iteration 200: 0.562804\n",
      "Cost after iteration 300: 0.372082\n",
      "Cost after iteration 400: 0.266999\n",
      "Cost after iteration 500: 0.227692\n",
      "Cost after iteration 600: 0.210864\n",
      "Cost after iteration 700: 0.202493\n",
      "Cost after iteration 800: 0.197831\n",
      "Cost after iteration 900: 0.194970\n",
      "Cost after iteration 1000: 0.193047\n",
      "Cost after iteration 1100: 0.191635\n",
      "Cost after iteration 1200: 0.190510\n",
      "Cost after iteration 1300: 0.189545\n",
      "Cost after iteration 1400: 0.188660\n",
      "Cost after iteration 1500: 0.187781\n",
      "Cost after iteration 1600: 0.186800\n",
      "Cost after iteration 1700: 0.185509\n",
      "Cost after iteration 1800: 0.183539\n",
      "Cost after iteration 1900: 0.180400\n",
      "Cost after iteration 2000: 0.175607\n",
      "Cost after iteration 2100: 0.168889\n",
      "Cost after iteration 2200: 0.160516\n",
      "Cost after iteration 2300: 0.151617\n",
      "Cost after iteration 2400: 0.143513\n",
      "Cost after iteration 2500: 0.136621\n",
      "Cost after iteration 2600: 0.130740\n",
      "Cost after iteration 2700: 0.125600\n",
      "Cost after iteration 2800: 0.121011\n",
      "Cost after iteration 2900: 0.116853\n",
      "Cost after iteration 3000: 0.113047\n",
      "Cost after iteration 3100: 0.109536\n",
      "Cost after iteration 3200: 0.106278\n",
      "Cost after iteration 3300: 0.103240\n",
      "Cost after iteration 3400: 0.100394\n",
      "Cost after iteration 3500: 0.097719\n",
      "Cost after iteration 3600: 0.095196\n",
      "Cost after iteration 3700: 0.092810\n",
      "Cost after iteration 3800: 0.090548\n",
      "Cost after iteration 3900: 0.088398\n",
      "Total number of Error :  [[0.]]\n"
     ]
    },
    {
     "name": "stderr",
     "output_type": "stream",
     "text": [
      "C:\\Users\\Harsh Chaudhari\\Anaconda2\\lib\\site-packages\\matplotlib\\figure.py:418: UserWarning: matplotlib is currently using a non-GUI backend, so cannot show the figure\n",
      "  \"matplotlib is currently using a non-GUI backend, \"\n"
     ]
    },
    {
     "data": {
      "image/png": "[encoded data removed]",
      "text/plain": [
       "<matplotlib.figure.Figure at 0x601a5c0>"
      ]
     },
     "metadata": {},
     "output_type": "display_data"
    }
   ],
   "source": [
    "def loadData():\n",
    "    ''' Loading data as X as features and Y as labels\n",
    "    from our data file and convert it to matrix '''\n",
    "    Z = []\n",
    "    file = open(\"ex2data1.txt\", \"r\") \n",
    "    for line in file:\n",
    "        line = line.split(',')\n",
    "        Z.append(line)\n",
    "    Z = np.matrix(Z, dtype=float)\n",
    "    (j, k) = Z.shape\n",
    "    X = np.zeros((j,k),dtype=float)\n",
    "    Y = np.zeros((j,1),dtype=float)\n",
    "    Y_prediction = np.zeros((1,j),dtype=float)\n",
    "    for i in range(j):\n",
    "        X[i,0]= Z[i,0]\n",
    "        X[i,1]= Z[i,0]**(1/2.0)\n",
    "        X[i,2]= Z[i,1]\n",
    "        Y[i,0]=Z[i,2]\n",
    "    X = np.matrix(X)\n",
    "    X = X.T ## Make this X with shape of (4,47)\n",
    "    Y = Y.T ## Make this Y with shape of (1,47)\n",
    "    ##print X\n",
    "\n",
    "\n",
    "    ''' Calling all necessary function that needed for\n",
    "    training and getting results and here we use only\n",
    "    four hidden layers '''\n",
    "    n_h = 4\n",
    "    X = feature_normalization(X)\n",
    "    parameters = nn_model(X, Y, n_h, num_iterations = 4000, show_cost=True)\n",
    "    predictions = predict(parameters, X)\n",
    "    predictions = np.matrix(predictions)\n",
    "    #print Y-predictions\n",
    "    assert(predictions.shape == Y.shape),\"Error at predictions\"\n",
    "    y_hat = np.power((predictions-Y),2)\n",
    "    print \"Total number of Error : \",np.sum(y_hat.T,axis = 0)# Showing unsucessfullty predicted\n",
    "\n",
    "\n",
    "    ''' Visualizing our result with data.\n",
    "    Here red is positive labels and\n",
    "    green is negative labels'''\n",
    "    f, ax = plt.subplots(figsize=(10, 7))\n",
    "    x1 = np.array(X[0,:]).flatten()\n",
    "    x2 = np.array(X[2,:]).flatten()\n",
    "    y = np.array(predictions[0,:]).flatten()\n",
    "    y1 = 1-y\n",
    "    y2 = y_hat\n",
    "    ax.scatter(x1, x2,y*50,marker='+',c=\"b\")\n",
    "    ax.scatter(x1, x2,y1*50,marker='^',c=\"y\")\n",
    "    ax.set(aspect=\"equal\",\n",
    "           xlim=(-0.2, 1.2), ylim=(1.2, -0.2),\n",
    "           xlabel=\"$X_1$\", ylabel=\"$X_2$\")\n",
    "    f.show()\n",
    "\n",
    "loadData()"
   ]
  },
  {
   "cell_type": "code",
   "execution_count": null,
   "metadata": {},
   "outputs": [],
   "source": []
  }
 ],
 "metadata": {
  "kernelspec": {
   "display_name": "Python 2",
   "language": "python",
   "name": "python2"
  },
  "language_info": {
   "codemirror_mode": {
    "name": "ipython",
    "version": 2
   },
   "file_extension": ".py",
   "mimetype": "text/x-python",
   "name": "python",
   "nbconvert_exporter": "python",
   "pygments_lexer": "ipython2",
   "version": "2.7.14"
  }
 },
 "nbformat": 4,
 "nbformat_minor": 2
}
